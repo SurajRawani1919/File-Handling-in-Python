{
 "cells": [
  {
   "cell_type": "code",
   "execution_count": null,
   "id": "d167195e-6f09-45d2-9533-9fb3b63b42c6",
   "metadata": {},
   "outputs": [
    {
     "name": "stdout",
     "output_type": "stream",
     "text": [
      "Choose an option:\n",
      "1. Create a folder on the desktop\n",
      "2. Create a file\n",
      "3. Send a message on WhatsApp\n",
      "4. Shut down the system\n",
      "5. Exit\n"
     ]
    },
    {
     "name": "stdin",
     "output_type": "stream",
     "text": [
      "Enter your choice:  3\n",
      "Enter the phone number (with country code, e.g., +123456789):  7061205601\n",
      "Enter the message to send:  hello\n",
      "Enter the hour (24-hour format) to send the message:  hgf\n"
     ]
    },
    {
     "name": "stdout",
     "output_type": "stream",
     "text": [
      "An error occurred: invalid literal for int() with base 10: 'hgf'\n",
      "Choose an option:\n",
      "1. Create a folder on the desktop\n",
      "2. Create a file\n",
      "3. Send a message on WhatsApp\n",
      "4. Shut down the system\n",
      "5. Exit\n"
     ]
    },
    {
     "name": "stdin",
     "output_type": "stream",
     "text": [
      "Enter your choice:  3\n",
      "Enter the phone number (with country code, e.g., +123456789):  7357898333\n",
      "Enter the message to send:  hello\n",
      "Enter the hour (24-hour format) to send the message:  2024-09-23 12:06:09:\n"
     ]
    },
    {
     "name": "stdout",
     "output_type": "stream",
     "text": [
      "An error occurred: invalid literal for int() with base 10: '2024-09-23 12:06:09:'\n",
      "Choose an option:\n",
      "1. Create a folder on the desktop\n",
      "2. Create a file\n",
      "3. Send a message on WhatsApp\n",
      "4. Shut down the system\n",
      "5. Exit\n"
     ]
    },
    {
     "name": "stdin",
     "output_type": "stream",
     "text": [
      "Enter your choice:  3\n",
      "Enter the phone number (with country code, e.g., +123456789):  7357898333\n",
      "Enter the message to send:  hello\n",
      "Enter the hour (24-hour format) to send the message:  2024-09-23 12:07:00\n"
     ]
    },
    {
     "name": "stdout",
     "output_type": "stream",
     "text": [
      "An error occurred: invalid literal for int() with base 10: '2024-09-23 12:07:00'\n",
      "Choose an option:\n",
      "1. Create a folder on the desktop\n",
      "2. Create a file\n",
      "3. Send a message on WhatsApp\n",
      "4. Shut down the system\n",
      "5. Exit\n"
     ]
    },
    {
     "name": "stdin",
     "output_type": "stream",
     "text": [
      "Enter your choice:  3\n",
      "Enter the phone number (with country code, e.g., +123456789):  +917357898333\n",
      "Enter the message to send:  hello\n",
      "Enter the hour (24-hour format) to send the message:  2024-09-23 12:08:00\n"
     ]
    },
    {
     "name": "stdout",
     "output_type": "stream",
     "text": [
      "An error occurred: invalid literal for int() with base 10: '2024-09-23 12:08:00'\n",
      "Choose an option:\n",
      "1. Create a folder on the desktop\n",
      "2. Create a file\n",
      "3. Send a message on WhatsApp\n",
      "4. Shut down the system\n",
      "5. Exit\n"
     ]
    }
   ],
   "source": [
    "import os\n",
    "import pywhatkit as kit\n",
    "\n",
    "def get_desktop_path():\n",
    "    return os.path.join(os.path.join(os.environ['USERPROFILE']), 'Desktop')\n",
    "\n",
    "def create_folder_on_desktop(folder_name):\n",
    "    desktop_path = get_desktop_path()\n",
    "    folder_path = os.path.join(desktop_path, folder_name)\n",
    "    try:\n",
    "        os.makedirs(folder_path)\n",
    "        print(f\"Folder '{folder_name}' created successfully on the desktop.\")\n",
    "    except FileExistsError:\n",
    "        print(f\"Folder '{folder_name}' already exists on the desktop.\")\n",
    "    except Exception as e:\n",
    "        print(f\"An error occurred: {e}\")\n",
    "\n",
    "def create_file(file_name):\n",
    "    try:\n",
    "        with open(file_name, 'w') as file:\n",
    "            file.write(\"\")\n",
    "        print(f\"File '{file_name}' created successfully.\")\n",
    "    except Exception as e:\n",
    "        print(f\"An error occurred: {e}\")\n",
    "\n",
    "def send_whatsapp_message():\n",
    "    try:\n",
    "        phone_number = input(\"Enter the phone number (with country code, e.g., +123456789): \")\n",
    "        message = input(\"Enter the message to send: \")\n",
    "        time_hour = int(input(\"Enter the hour (24-hour format) to send the message: \"))\n",
    "        time_minute = int(input(\"Enter the minute to send the message: \"))\n",
    "        kit.sendwhatmsg(phone_number, message, time_hour, time_minute)\n",
    "        print(\"Message scheduled successfully.\")\n",
    "    except Exception as e:\n",
    "        print(f\"An error occurred: {e}\")\n",
    "\n",
    "def shut_down_system():\n",
    "    try:\n",
    "        confirm = input(\"Are you sure you want to shut down the system? (yes/no): \")\n",
    "        if confirm.lower() == 'yes':\n",
    "            os.system('shutdown /s /t 1')\n",
    "        else:\n",
    "            print(\"Shutdown canceled.\")\n",
    "    except Exception as e:\n",
    "        print(f\"An error occurred: {e}\")\n",
    "\n",
    "def main():\n",
    "    while True:\n",
    "        print(\"Choose an option:\")\n",
    "        print(\"1. Create a folder on the desktop\")\n",
    "        print(\"2. Create a file\")\n",
    "        print(\"3. Send a message on WhatsApp\")\n",
    "        print(\"4. Shut down the system\")\n",
    "        print(\"5. Exit\")\n",
    "        \n",
    "        choice = input(\"Enter your choice: \")\n",
    "        \n",
    "        if choice == '1':\n",
    "            folder_name = input(\"Enter the name of the folder to create on the desktop: \")\n",
    "            create_folder_on_desktop(folder_name)\n",
    "        elif choice == '2':\n",
    "            file_name = input(\"Enter the name of the file to create: \")\n",
    "            create_file(file_name)\n",
    "        elif choice == '3':\n",
    "            send_whatsapp_message()\n",
    "        elif choice == '4':\n",
    "            shut_down_system()\n",
    "            break\n",
    "        elif choice == '5':\n",
    "            print(\"Exiting program.\")\n",
    "            break\n",
    "        else:\n",
    "            print(\"Invalid choice. Please try again.\")\n",
    "\n",
    "if __name__ == \"__main__\":\n",
    "    main()\n"
   ]
  },
  {
   "cell_type": "code",
   "execution_count": null,
   "id": "5b3dc90d-811d-4fea-b710-4ace71e04964",
   "metadata": {},
   "outputs": [],
   "source": []
  }
 ],
 "metadata": {
  "kernelspec": {
   "display_name": "Python 3 (ipykernel)",
   "language": "python",
   "name": "python3"
  },
  "language_info": {
   "codemirror_mode": {
    "name": "ipython",
    "version": 3
   },
   "file_extension": ".py",
   "mimetype": "text/x-python",
   "name": "python",
   "nbconvert_exporter": "python",
   "pygments_lexer": "ipython3",
   "version": "3.10.11"
  }
 },
 "nbformat": 4,
 "nbformat_minor": 5
}
